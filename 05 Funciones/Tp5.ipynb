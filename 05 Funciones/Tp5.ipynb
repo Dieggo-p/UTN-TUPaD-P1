{
 "cells": [
  {
   "cell_type": "code",
   "execution_count": 24,
   "id": "7986acab",
   "metadata": {},
   "outputs": [
    {
     "name": "stdout",
     "output_type": "stream",
     "text": [
      "[4, 8, 12, 16, 20, 24, 28, 32, 36, 40, 44, 48, 52, 56, 60, 64, 68, 72, 76, 80, 84, 88, 92, 96, 100]\n"
     ]
    }
   ],
   "source": [
    "multiplos_4 = list(range(4,101,4))\n",
    "print(multiplos_4)"
   ]
  },
  {
   "cell_type": "code",
   "execution_count": 7,
   "id": "493d506e",
   "metadata": {},
   "outputs": [
    {
     "name": "stdout",
     "output_type": "stream",
     "text": [
      "3\n"
     ]
    }
   ],
   "source": [
    "lista = [1, 2, 3, 4, 5]\n",
    "print(lista[2])"
   ]
  },
  {
   "cell_type": "code",
   "execution_count": null,
   "id": "0d2cecbc",
   "metadata": {},
   "outputs": [
    {
     "name": "stdout",
     "output_type": "stream",
     "text": [
      "['hola', 'como', 'estas']\n"
     ]
    }
   ],
   "source": [
    "lista_vacia = []\n",
    "\n",
    "lista_vacia.append('hola')\n",
    "lista_vacia.append('como')\n",
    "lista_vacia.append('estas')\n",
    "print(lista_vacia)"
   ]
  },
  {
   "cell_type": "code",
   "execution_count": 11,
   "id": "a6277ce9",
   "metadata": {},
   "outputs": [
    {
     "name": "stdout",
     "output_type": "stream",
     "text": [
      "['perro', 'loro', 'conejo', 'oso']\n"
     ]
    }
   ],
   "source": [
    "lista_animales = ['perro', 'gato', 'conejo', 'pez']\n",
    "\n",
    "lista_animales[1] = 'loro'\n",
    "lista_animales[-1] = 'oso'\n",
    "print(lista_animales)"
   ]
  },
  {
   "cell_type": "code",
   "execution_count": null,
   "id": "794db7e3",
   "metadata": {},
   "outputs": [
    {
     "name": "stdout",
     "output_type": "stream",
     "text": [
      "[1, 2, 3, 4]\n"
     ]
    }
   ],
   "source": [
    "# Lo que hace el codigo de la consigna numero 5 es eliminar el numero mas grande de la lista y dejar el resto de los numeros\n",
    "numeros = [1, 2, 3, 4, 5]\n",
    "numeros.remove(max(numeros))\n",
    "print(numeros)"
   ]
  },
  {
   "cell_type": "code",
   "execution_count": 29,
   "id": "01ea3aad",
   "metadata": {},
   "outputs": [
    {
     "name": "stdout",
     "output_type": "stream",
     "text": [
      "[15, 20]\n"
     ]
    }
   ],
   "source": [
    "lista_numeros = list(range(10, 31, 5))\n",
    "print(lista_numeros[1:3])"
   ]
  },
  {
   "cell_type": "code",
   "execution_count": 30,
   "id": "81e6b0e2",
   "metadata": {},
   "outputs": [
    {
     "name": "stdout",
     "output_type": "stream",
     "text": [
      "['sedan', 'vento', '208', 'gol']\n"
     ]
    }
   ],
   "source": [
    "autos = ['sedan', 'polo', 'suran', 'gol']\n",
    "autos[1:3] = 'vento', '208'\n",
    "print(autos)"
   ]
  },
  {
   "cell_type": "code",
   "execution_count": 31,
   "id": "301b88f1",
   "metadata": {},
   "outputs": [
    {
     "name": "stdout",
     "output_type": "stream",
     "text": [
      "[10, 20, 30]\n"
     ]
    }
   ],
   "source": [
    "dobles = []\n",
    "dobles.append(5*2)\n",
    "dobles.append(10*2)\n",
    "dobles.append(15*2)\n",
    "print(dobles)"
   ]
  },
  {
   "cell_type": "code",
   "execution_count": 32,
   "id": "cf2a21ee",
   "metadata": {},
   "outputs": [
    {
     "name": "stdout",
     "output_type": "stream",
     "text": [
      "[['leche'], ['arroz', 'tallarines', 'salsa'], ['agua', 'jugo']]\n"
     ]
    }
   ],
   "source": [
    "compras = [['pan', 'leche'], ['arroz', 'fideos', 'salsa'], ['agua']]\n",
    "\n",
    "compras[2].append('jugo')\n",
    "compras[1][1] = 'tallarines'\n",
    "compras[0].remove('pan')\n",
    "print(compras)"
   ]
  },
  {
   "cell_type": "code",
   "execution_count": null,
   "id": "ceaff703",
   "metadata": {},
   "outputs": [
    {
     "name": "stdout",
     "output_type": "stream",
     "text": [
      "[15, True, [25.5, 57.9, 30.6], False]\n"
     ]
    }
   ],
   "source": [
    "lista_anidada = [15, True, [25.5, 57.9, 30.6], False]\n",
    "print(lista_anidada)"
   ]
  }
 ],
 "metadata": {
  "kernelspec": {
   "display_name": "Python 3",
   "language": "python",
   "name": "python3"
  },
  "language_info": {
   "codemirror_mode": {
    "name": "ipython",
    "version": 3
   },
   "file_extension": ".py",
   "mimetype": "text/x-python",
   "name": "python",
   "nbconvert_exporter": "python",
   "pygments_lexer": "ipython3",
   "version": "3.11.9"
  }
 },
 "nbformat": 4,
 "nbformat_minor": 5
}
