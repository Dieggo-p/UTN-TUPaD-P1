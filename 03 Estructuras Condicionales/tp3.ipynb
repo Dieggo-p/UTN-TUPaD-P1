{
 "cells": [
  {
   "cell_type": "code",
   "execution_count": null,
   "metadata": {},
   "outputs": [],
   "source": [
    "edad = int(input(\"Ingrese su edad: \"))\n",
    "\n",
    "if edad >= 18:\n",
    "    print(\"Eres mayor de edad.\")\n",
    "else :\n",
    "    print(\"Eres menor de edad.\")"
   ]
  },
  {
   "cell_type": "code",
   "execution_count": 4,
   "metadata": {},
   "outputs": [
    {
     "name": "stdout",
     "output_type": "stream",
     "text": [
      "Aprobado\n"
     ]
    }
   ],
   "source": [
    "nota = int(input('Ingrese su nota: '))\n",
    "\n",
    "if nota >= 6:\n",
    "    print('Aprobado')\n",
    "else:\n",
    "    print('Desaprobado')"
   ]
  },
  {
   "cell_type": "code",
   "execution_count": 6,
   "metadata": {},
   "outputs": [
    {
     "name": "stdout",
     "output_type": "stream",
     "text": [
      "El número es impar\n"
     ]
    }
   ],
   "source": [
    "num = int(input('Ingrese un número: '))\n",
    "\n",
    "if num % 2 == 0:\n",
    "    print('El número es par')\n",
    "else: \n",
    "    print('El número es impar')"
   ]
  },
  {
   "cell_type": "code",
   "execution_count": 12,
   "metadata": {},
   "outputs": [
    {
     "name": "stdout",
     "output_type": "stream",
     "text": [
      "Eres un niño/a\n"
     ]
    }
   ],
   "source": [
    "edad = int(input('Ingrese su edad: '))\n",
    "\n",
    "if edad < 12:\n",
    "    print('Eres un niño/a')\n",
    "elif edad >= 12 and edad < 18:\n",
    "    print('Eres un adolescente')\n",
    "elif edad >= 18 and edad < 30: \n",
    "    print('Eres un adulto/a joven')\n",
    "elif edad >= 30:\n",
    "    print('Eres un adulto/a mayor')"
   ]
  },
  {
   "cell_type": "code",
   "execution_count": null,
   "metadata": {},
   "outputs": [],
   "source": [
    "contraseña = input('Ingrese su contraseña de entre 8 y 14 caracteres: ')\n",
    "verificar = len(contraseña)\n",
    "\n",
    "if verificar >= 8 and verificar <= 14:\n",
    "     print ('Ha ingresado una contraseña correcta')\n",
    "else: \n",
    "    print('Por favor, ingrese una contraseña de entre 8 y 14 caracteres')\n"
   ]
  },
  {
   "cell_type": "code",
   "execution_count": 44,
   "metadata": {},
   "outputs": [
    {
     "name": "stdout",
     "output_type": "stream",
     "text": [
      "moda =  35\n",
      "mediana =  44.5\n",
      "media =  48.04\n",
      "Sesgo negativo\n"
     ]
    }
   ],
   "source": [
    "import random\n",
    "from statistics import mode, median, mean \n",
    "numeros = [random.randint(1, 100) for i in range(50)]\n",
    "\n",
    "moda = mode(numeros)\n",
    "print('moda = ', moda)\n",
    "mediana = median(numeros)\n",
    "print('mediana = ', mediana)\n",
    "media = mean(numeros)\n",
    "print('media = ', media)\n",
    "\n",
    "if moda > mediana and mediana > media:\n",
    "    print(\"Sesgo positivo\")\n",
    "elif moda < mediana and mediana < media:\n",
    "    print(\"Sesgo negativo\")\n",
    "elif moda == mediana and mediana == media: \n",
    "    print(\"Sin sesgo\")"
   ]
  },
  {
   "cell_type": "code",
   "execution_count": 3,
   "metadata": {},
   "outputs": [
    {
     "name": "stdout",
     "output_type": "stream",
     "text": [
      "mernuel\n"
     ]
    }
   ],
   "source": [
    "frase = input('Ingrese una frase o palabra: ')\n",
    "vocales = ['a', 'e', 'i', 'o', 'u']\n",
    "if frase[-1] in vocales:\n",
    "    print(frase + '!')\n",
    "else: \n",
    "    print(frase)"
   ]
  },
  {
   "cell_type": "code",
   "execution_count": 4,
   "metadata": {},
   "outputs": [
    {
     "name": "stdout",
     "output_type": "stream",
     "text": [
      "NOMBRE\n"
     ]
    }
   ],
   "source": [
    "nombre = input('Ingrese su nombre: ')\n",
    "opcion = int(input('Ingrese un numero según la opcion deseada: la opcion que desea: 1. Si quiere su nombre en mayúsculas. Por ejemplo: PEDRO. 2. Si quiere su nombre en minúsculas. Por ejemplo: pedro. 3. Si quiere su nombre con la primera letra mayúscula. Por ejemplo: Pedro.'))\n",
    "if opcion == 1: \n",
    "    print(nombre.upper())\n",
    "elif opcion == 2: \n",
    "    print(nombre.lower())\n",
    "elif opcion == 3: \n",
    "    print(nombre.title())\n",
    "else: \n",
    "    print('Opción no válida.')"
   ]
  },
  {
   "cell_type": "code",
   "execution_count": null,
   "metadata": {},
   "outputs": [
    {
     "name": "stdout",
     "output_type": "stream",
     "text": [
      "Muy leve (imperceptible)\n"
     ]
    }
   ],
   "source": [
    "terremoto = int(input('Ingrese la magnitud del terremoto: '))\n",
    "\n",
    "if terremoto < 3: \n",
    "    print('Muy leve (imperceptible)')\n",
    "elif terremoto >= 3 and terremoto < 4:\n",
    "    print('Leve (Ligeramente perceptible)')\n",
    "elif terremoto >= 4 and terremoto < 5:\n",
    "    print('Moderado (sentido por las personas, pero generalmente no causa daños)')\n",
    "elif terremoto >= 5 and terremoto < 6:\n",
    "    print('Fuerte (puede causar daños en estructuras débiles)')\n",
    "elif terremoto >= 6 and terremoto < 7:\n",
    "    print('Muy fuerte (puede causar daños significativos)')\n",
    "elif terremoto >= 7:\n",
    "    print('Extremo (puede causar graves daños a gran escala)')"
   ]
  },
  {
   "cell_type": "code",
   "execution_count": null,
   "metadata": {},
   "outputs": [
    {
     "name": "stdout",
     "output_type": "stream",
     "text": [
      "Invierno\n"
     ]
    }
   ],
   "source": [
    "hemisferio = input('Ingrese su hemisferio (Norte o Sur): ')\n",
    "mes = input('Ingrese el mes: ')\n",
    "dia = int(input('Ingrese el día: '))\n",
    "\n",
    "\n",
    "if hemisferio == 'norte' and mes == 'diciembre' and dia >= 21 or (mes == 'enero' or mes == 'febrero' or mes == 'marzo' and dia <= 20):\n",
    "    print('Invierno')\n",
    "elif hemisferio == 'norte' and mes == 'marzo' and dia >= 21 or mes == 'abril' or mes == 'mayo' or mes == 'junio' and dia <= 20:\n",
    "    print('Primavera')\n",
    "elif hemisferio == 'norte' and mes == 'junio' and dia >= 21 or mes == 'julio' or mes == 'agosto' or mes == 'septiembre' and dia <= 20:\n",
    "    print('Verano')\n",
    "elif hemisferio == 'norte' and mes == 'septiembre' and dia >= 21 or mes == 'octubre' or mes == 'noviembre' and dia <= 20:\n",
    "    print('Otoño')\n",
    "elif hemisferio == 'sur' and mes == 'diciembre' and dia >= 21 or mes == 'enero' or mes == 'febrero' or mes == 'marzo' and dia <= 20:\n",
    "    print('Verano')\n",
    "elif hemisferio == 'sur' and mes == 'marzo' and dia >= 21 or mes == 'abril' or mes == 'mayo' or mes == 'junio' and dia <= 20:\n",
    "    print('Otoño')\n",
    "elif hemisferio == 'sur' and mes == 'junio' and dia >= 21 or mes == 'julio' or mes == 'agosto' or mes == 'septiembre' and dia <= 20:\n",
    "    print('Invierno')\n",
    "elif hemisferio == 'sur' and mes == 'septiembre' and dia >= 21 or mes == 'octubre' or mes == 'noviembre' and dia <= 20:\n",
    "    print('Primavera')\n",
    "else:\n",
    "    print('Mes o día inválido')"
   ]
  },
  {
   "cell_type": "code",
   "execution_count": 21,
   "metadata": {},
   "outputs": [
    {
     "name": "stdout",
     "output_type": "stream",
     "text": [
      "La estación del año es: Verano\n"
     ]
    }
   ],
   "source": [
    "# Normalizar las entradas\n",
    "hemisferio = input('Ingrese su hemisferio (Norte o Sur): ').strip().lower()\n",
    "mes = input('Ingrese el mes: ').strip().lower()\n",
    "dia = int(input('Ingrese el día: '))\n",
    "\n",
    "# Diccionario para convertir nombre del mes a número\n",
    "meses = {\n",
    "    'enero': 1, 'febrero': 2, 'marzo': 3, 'abril': 4,\n",
    "    'mayo': 5, 'junio': 6, 'julio': 7, 'agosto': 8,\n",
    "    'septiembre': 9, 'octubre': 10, 'noviembre': 11, 'diciembre': 12\n",
    "}\n",
    "\n",
    "if mes not in meses:\n",
    "    print(\"Mes inválido\")\n",
    "else:\n",
    "    fecha = meses[mes] * 100 + dia\n",
    "\n",
    "    if hemisferio == 'norte':\n",
    "        if 1221 <= fecha <= 320:\n",
    "            estacion = \"Invierno\"\n",
    "        elif 321 <= fecha <= 620:\n",
    "            estacion = \"Primavera\"\n",
    "        elif 621 <= fecha <= 920:\n",
    "            estacion = \"Verano\"\n",
    "        elif 921 <= fecha <= 1220:\n",
    "            estacion = \"Otoño\"\n",
    "    elif hemisferio == 'sur':\n",
    "        if 1221 <= fecha <= 320:\n",
    "            estacion = \"Verano\"\n",
    "        elif 321 <= fecha <= 620:\n",
    "            estacion = \"Otoño\"\n",
    "        elif 621 <= fecha <= 920:\n",
    "            estacion = \"Invierno\"\n",
    "        elif 921 <= fecha <= 1220:\n",
    "            estacion = \"Primavera\"\n",
    "    else:\n",
    "        estacion = \"Hemisferio inválido\"\n",
    "\n",
    "    print(f\"La estación del año es: {estacion}\")"
   ]
  }
 ],
 "metadata": {
  "kernelspec": {
   "display_name": "Python 3",
   "language": "python",
   "name": "python3"
  },
  "language_info": {
   "codemirror_mode": {
    "name": "ipython",
    "version": 3
   },
   "file_extension": ".py",
   "mimetype": "text/x-python",
   "name": "python",
   "nbconvert_exporter": "python",
   "pygments_lexer": "ipython3",
   "version": "3.11.9"
  }
 },
 "nbformat": 4,
 "nbformat_minor": 2
}
