{
 "cells": [
  {
   "cell_type": "code",
   "execution_count": null,
   "id": "9460c99c",
   "metadata": {},
   "outputs": [],
   "source": [
    "for i in range (0, 101):\n",
    "    print(i)"
   ]
  },
  {
   "cell_type": "code",
   "execution_count": null,
   "id": "f572f2c4",
   "metadata": {},
   "outputs": [],
   "source": [
    "n = input('Ingresa un número entero: ')\n",
    "\n",
    "if n.startswith('-'):\n",
    "    n = n[1:]\n",
    "cantidad_digitos = len(n)\n",
    "print('El número tiene', cantidad_digitos, 'dígitos.')"
   ]
  },
  {
   "cell_type": "code",
   "execution_count": null,
   "id": "6e94bea8",
   "metadata": {},
   "outputs": [],
   "source": [
    "inicio = int(input('Ingrese el primer número: '))\n",
    "fin = int(input('Ingrese el segundo número: '))\n",
    "\n",
    "# Se asegura que el inicio sea menor que el fin para que este ordenado\n",
    "\n",
    "menor = min(inicio, fin)\n",
    "mayor = max(inicio, fin)\n",
    "\n",
    "suma = 0 \n",
    "\n",
    "for i in range(menor + 1, mayor):\n",
    "    suma += i\n",
    "print('La suma de los números entre', menor, 'y', mayor, 'es:', suma)"
   ]
  },
  {
   "cell_type": "code",
   "execution_count": null,
   "id": "58aad2ab",
   "metadata": {},
   "outputs": [],
   "source": [
    "n = input('Ingrese un número o presione 0 para terminar: ')\n",
    "suma = 0\n",
    "\n",
    "while n != '0':\n",
    "    suma += int(n)\n",
    "    n = input('Ingrese un número o presione 0 para terminar: ')\n",
    "print('La suma es:', suma)"
   ]
  },
  {
   "cell_type": "code",
   "execution_count": null,
   "id": "24f46fed",
   "metadata": {},
   "outputs": [],
   "source": [
    "import random\n",
    "\n",
    "n = int(input('Adivina el número entre 0 y 9: '))\n",
    "n2 = random.randint(0, 9)\n",
    "intentos = 0\n",
    "while n != n2:\n",
    "    intentos += 1\n",
    "    n = int(input('Otra vez, adivina el número entre 0 y 9: '))\n",
    "    if n < n:\n",
    "        print('El número es mayor')\n",
    "    elif n > n:\n",
    "        print('El número es menor')\n",
    "print('Felicitaciones, adivinaste el número', n2, 'en', intentos, 'intentos')"
   ]
  },
  {
   "cell_type": "code",
   "execution_count": null,
   "id": "50aa7c6e",
   "metadata": {},
   "outputs": [],
   "source": [
    "for i in range (100, -1, -2):\n",
    "    print(i)"
   ]
  },
  {
   "cell_type": "code",
   "execution_count": 43,
   "id": "d972cb5a",
   "metadata": {},
   "outputs": [
    {
     "name": "stdout",
     "output_type": "stream",
     "text": [
      "La suma de los números desde 0 hasta 10 es: 55\n"
     ]
    }
   ],
   "source": [
    "n = int(input('Ingrese un número positivo: '))\n",
    "\n",
    "if n > 0:\n",
    "    suma = 0\n",
    "    for i in range(0, n + 1):\n",
    "        suma += i\n",
    "    print('La suma de los números desde 0 hasta', n, 'es:', suma)\n",
    "else:\n",
    "    print('El número debe ser positivo')\n"
   ]
  },
  {
   "cell_type": "code",
   "execution_count": null,
   "id": "00ef3c3b",
   "metadata": {},
   "outputs": [
    {
     "name": "stdout",
     "output_type": "stream",
     "text": [
      "\n",
      "RESULTADOS\n",
      "Pares: 0\n",
      "Impares: 10\n",
      "Positivos: 10\n",
      "Negativos: 0\n"
     ]
    }
   ],
   "source": [
    "# Cantidad de números a ingresar\n",
    "numeros = 10\n",
    "\n",
    "# Contandores\n",
    "pares = 0\n",
    "impares = 0\n",
    "positivos = 0\n",
    "negativos = 0\n",
    "\n",
    "for i in range(numeros):\n",
    "    n = int(input(f'Ingrese un número {i + 1}: '))\n",
    "    \n",
    "    # if para verificar si es par o impar\n",
    "    if n % 2 == 0:\n",
    "        pares += 1\n",
    "    else:\n",
    "        impares += 1\n",
    "        \n",
    "    # if para verificar si es positivo o negativo\n",
    "    if n > 0: \n",
    "        positivos += 1\n",
    "    elif n < 0:\n",
    "        negativos += 1\n",
    "\n",
    "print('\\nRESULTADOS')\n",
    "print('Pares:', pares)\n",
    "print('Impares:', impares)\n",
    "print('Positivos:', positivos)\n",
    "print('Negativos:', negativos)"
   ]
  },
  {
   "cell_type": "code",
   "execution_count": null,
   "id": "8b550923",
   "metadata": {},
   "outputs": [],
   "source": [
    "numeros = 10\n",
    "suma = 0\n",
    "\n",
    "for i in range(numeros):\n",
    "    n = int(input(f'Ingrese un número {i + 1}: '))\n",
    "    suma += n\n",
    "\n",
    "media = suma / numeros\n",
    "print('La media de los números ingresados es:', media)\n",
    "    \n"
   ]
  },
  {
   "cell_type": "code",
   "execution_count": null,
   "id": "e7f5cda4",
   "metadata": {},
   "outputs": [],
   "source": [
    "n = input('Ingrese un número: ')\n",
    "\n",
    "n_invertido = n[::-1]\n",
    "\n",
    "print('El número invertido es:', n_invertido)"
   ]
  }
 ],
 "metadata": {
  "kernelspec": {
   "display_name": "Python 3",
   "language": "python",
   "name": "python3"
  },
  "language_info": {
   "codemirror_mode": {
    "name": "ipython",
    "version": 3
   },
   "file_extension": ".py",
   "mimetype": "text/x-python",
   "name": "python",
   "nbconvert_exporter": "python",
   "pygments_lexer": "ipython3",
   "version": "3.11.9"
  }
 },
 "nbformat": 4,
 "nbformat_minor": 5
}
